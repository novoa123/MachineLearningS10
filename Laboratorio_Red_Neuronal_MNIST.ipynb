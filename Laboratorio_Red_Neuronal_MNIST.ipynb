{
  "cells": [
    {
      "cell_type": "markdown",
      "metadata": {
        "id": "view-in-github",
        "colab_type": "text"
      },
      "source": [
        "<a href=\"https://colab.research.google.com/github/novoa123/MachineLearningS10/blob/main/Laboratorio_Red_Neuronal_MNIST.ipynb\" target=\"_parent\"><img src=\"https://colab.research.google.com/assets/colab-badge.svg\" alt=\"Open In Colab\"/></a>"
      ]
    },
    {
      "cell_type": "markdown",
      "id": "0e566d1d",
      "metadata": {
        "id": "0e566d1d"
      },
      "source": [
        "\n",
        "# Laboratorio: Red Neuronal con MNIST  \n",
        "**Curso:** Machine Learning  \n",
        "**Total puntos:** 10\n",
        "\n",
        "**Objetivo:** Implementar una red neuronal simple para clasificar dígitos escritos a mano del conjunto de datos MNIST utilizando Python y Keras.\n"
      ]
    },
    {
      "cell_type": "markdown",
      "id": "d6ff2177",
      "metadata": {
        "id": "d6ff2177"
      },
      "source": [
        "\n",
        "## Paso 1: Cargar el conjunto de datos MNIST (1 punto)\n",
        "\n",
        "Ejecuta el siguiente bloque para descargar y explorar el conjunto de datos.\n"
      ]
    },
    {
      "cell_type": "code",
      "execution_count": null,
      "id": "7c659575",
      "metadata": {
        "colab": {
          "base_uri": "https://localhost:8080/"
        },
        "id": "7c659575",
        "outputId": "0eee8951-9d88-4d82-9920-31e43cd50dd7"
      },
      "outputs": [
        {
          "output_type": "stream",
          "name": "stdout",
          "text": [
            "Downloading data from https://storage.googleapis.com/tensorflow/tf-keras-datasets/mnist.npz\n",
            "\u001b[1m11490434/11490434\u001b[0m \u001b[32m━━━━━━━━━━━━━━━━━━━━\u001b[0m\u001b[37m\u001b[0m \u001b[1m0s\u001b[0m 0us/step\n",
            "Tamaño del set de entrenamiento: (60000, 28, 28)\n",
            "Tamaño del set de test: (10000, 28, 28)\n"
          ]
        }
      ],
      "source": [
        "\n",
        "from tensorflow.keras.datasets import mnist\n",
        "\n",
        "# Cargar datos\n",
        "(x_train, y_train), (x_test, y_test) = mnist.load_data()\n",
        "\n",
        "print(\"Tamaño del set de entrenamiento:\", x_train.shape)\n",
        "print(\"Tamaño del set de test:\", x_test.shape)\n"
      ]
    },
    {
      "cell_type": "markdown",
      "id": "8c2895d0",
      "metadata": {
        "id": "8c2895d0"
      },
      "source": [
        "\n",
        "## Paso 2: Visualizar ejemplos del dataset (1 punto)\n",
        "\n",
        "✏️ **Slot para completar:** Visualiza al menos 5 imágenes con sus etiquetas utilizando `matplotlib.pyplot.imshow()`.\n"
      ]
    },
    {
      "cell_type": "code",
      "execution_count": null,
      "id": "1fab1a72",
      "metadata": {
        "id": "1fab1a72"
      },
      "outputs": [],
      "source": [
        "\n",
        "# COMPLETA AQUÍ: Visualización de imágenes con sus etiquetas\n"
      ]
    },
    {
      "cell_type": "code",
      "source": [
        "import matplotlib.pyplot as plt"
      ],
      "metadata": {
        "id": "mR7d5bluO93Z"
      },
      "id": "mR7d5bluO93Z",
      "execution_count": null,
      "outputs": []
    },
    {
      "cell_type": "code",
      "source": [
        "plt.figure(figsize=(10, 2))\n",
        "\n",
        "for i in range(5):\n",
        "    plt.subplot(1, 5, i + 1)\n",
        "    plt.imshow(x_train[i], cmap='gray')\n",
        "    plt.title(f\"Etiqueta: {y_train[i]}\")\n",
        "    plt.axis('off')\n",
        "\n",
        "plt.tight_layout()\n",
        "plt.show()"
      ],
      "metadata": {
        "colab": {
          "base_uri": "https://localhost:8080/",
          "height": 217
        },
        "id": "HafoOC3gPBaH",
        "outputId": "b918679f-3b8a-47f9-f8e5-419b8dc1827c"
      },
      "id": "HafoOC3gPBaH",
      "execution_count": null,
      "outputs": [
        {
          "output_type": "display_data",
          "data": {
            "text/plain": [
              "<Figure size 1000x200 with 5 Axes>"
            ],
            "image/png": "[encoded data removed]"
          },
          "metadata": {}
        }
      ]
    },
    {
      "cell_type": "markdown",
      "id": "9e5bc3a8",
      "metadata": {
        "id": "9e5bc3a8"
      },
      "source": [
        "\n",
        "## Paso 3: Preprocesamiento (1 punto)\n",
        "\n",
        "✏️ **Slot para completar:**\n",
        "- Normaliza las imágenes (divide por 255.0).\n",
        "- Aplana cada imagen a un vector de 784 valores.\n",
        "- Codifica las etiquetas con `to_categorical`.\n"
      ]
    },
    {
      "cell_type": "code",
      "execution_count": null,
      "id": "40757ea1",
      "metadata": {
        "id": "40757ea1"
      },
      "outputs": [],
      "source": [
        "\n",
        "# COMPLETA AQUÍ: Normalización, flattening y codificación one-hot\n"
      ]
    },
    {
      "cell_type": "code",
      "source": [
        "from tensorflow.keras.utils import to_categorical"
      ],
      "metadata": {
        "id": "kwXzmryxPYFu"
      },
      "id": "kwXzmryxPYFu",
      "execution_count": null,
      "outputs": []
    },
    {
      "cell_type": "code",
      "source": [
        "#Normalizar\n",
        "\n",
        "x_train = x_train.astype('float32') / 255.0\n",
        "x_test = x_test.astype('float32') / 255.0"
      ],
      "metadata": {
        "id": "YQyIJrOcPaaG"
      },
      "id": "YQyIJrOcPaaG",
      "execution_count": null,
      "outputs": []
    },
    {
      "cell_type": "code",
      "source": [
        "#Aplanar\n",
        "\n",
        "x_train = x_train.reshape(-1, 784)\n",
        "x_test = x_test.reshape(-1, 784)"
      ],
      "metadata": {
        "id": "RDbQZYh8PaZD"
      },
      "id": "RDbQZYh8PaZD",
      "execution_count": null,
      "outputs": []
    },
    {
      "cell_type": "code",
      "source": [
        "#Codificacion\n",
        "\n",
        "y_train = to_categorical(y_train, num_classes=10)\n",
        "y_test = to_categorical(y_test, num_classes=10)"
      ],
      "metadata": {
        "id": "kW04Zy6ePaHG"
      },
      "id": "kW04Zy6ePaHG",
      "execution_count": null,
      "outputs": []
    },
    {
      "cell_type": "code",
      "source": [
        "print(\"Tamaño del set de entrenamiento:\", x_train.shape)\n",
        "print(\"Tamaño del set de test:\", x_test.shape)\n",
        "\n",
        "print(\"Tamaño del set de entrenamiento:\", y_train.shape)\n",
        "print(\"Tamaño del set de test:\", y_test.shape)"
      ],
      "metadata": {
        "colab": {
          "base_uri": "https://localhost:8080/"
        },
        "id": "-7JFE98PPt-3",
        "outputId": "55e3a677-463e-4bb8-8bbd-6650035f4b1d"
      },
      "id": "-7JFE98PPt-3",
      "execution_count": null,
      "outputs": [
        {
          "output_type": "stream",
          "name": "stdout",
          "text": [
            "Tamaño del set de entrenamiento: (60000, 784)\n",
            "Tamaño del set de test: (10000, 784)\n",
            "Tamaño del set de entrenamiento: (60000, 10)\n",
            "Tamaño del set de test: (10000, 10)\n"
          ]
        }
      ]
    },
    {
      "cell_type": "markdown",
      "id": "36e5006d",
      "metadata": {
        "id": "36e5006d"
      },
      "source": [
        "\n",
        "## Paso 4: Definir la red neuronal (2 puntos)\n",
        "\n",
        "✏️ **Slot para completar:**\n",
        "- Crea un modelo `Sequential`.\n",
        "- Agrega una capa oculta con activación ReLU.\n",
        "- Agrega una capa de salida con activación Softmax.\n",
        "- Compila el modelo con `adam` y `categorical_crossentropy`.\n"
      ]
    },
    {
      "cell_type": "code",
      "execution_count": null,
      "id": "9256bacd",
      "metadata": {
        "id": "9256bacd"
      },
      "outputs": [],
      "source": [
        "\n",
        "# COMPLETA AQUÍ: Definición y compilación del modelo\n"
      ]
    },
    {
      "cell_type": "code",
      "source": [
        "from tensorflow.keras.models import Sequential\n",
        "from tensorflow.keras.layers import Dense"
      ],
      "metadata": {
        "id": "MoIxP5cdP4Ib"
      },
      "id": "MoIxP5cdP4Ib",
      "execution_count": null,
      "outputs": []
    },
    {
      "cell_type": "code",
      "source": [
        "model = Sequential([\n",
        "    Dense(128, activation='relu', input_shape=(784,)),\n",
        "    Dense(10, activation='softmax')\n",
        "])"
      ],
      "metadata": {
        "colab": {
          "base_uri": "https://localhost:8080/"
        },
        "id": "Azax-MJgP6HX",
        "outputId": "77a16f50-bd00-44bd-89a9-29421f1ab94e"
      },
      "id": "Azax-MJgP6HX",
      "execution_count": null,
      "outputs": [
        {
          "output_type": "stream",
          "name": "stderr",
          "text": [
            "/usr/local/lib/python3.11/dist-packages/keras/src/layers/core/dense.py:87: UserWarning: Do not pass an `input_shape`/`input_dim` argument to a layer. When using Sequential models, prefer using an `Input(shape)` object as the first layer in the model instead.\n",
            "  super().__init__(activity_regularizer=activity_regularizer, **kwargs)\n"
          ]
        }
      ]
    },
    {
      "cell_type": "code",
      "source": [
        "model.compile(optimizer='adam', loss='categorical_crossentropy', metrics=['accuracy'])"
      ],
      "metadata": {
        "id": "UCVtyk9iQPIU"
      },
      "id": "UCVtyk9iQPIU",
      "execution_count": null,
      "outputs": []
    },
    {
      "cell_type": "code",
      "source": [
        "model.summary()"
      ],
      "metadata": {
        "colab": {
          "base_uri": "https://localhost:8080/",
          "height": 204
        },
        "id": "jkTkanczQRYR",
        "outputId": "30e549a5-b1f2-4e8b-9a8a-898d251c4abc"
      },
      "id": "jkTkanczQRYR",
      "execution_count": null,
      "outputs": [
        {
          "output_type": "display_data",
          "data": {
            "text/plain": [
              "\u001b[1mModel: \"sequential\"\u001b[0m\n"
            ],
            "text/html": [
              "<pre style=\"white-space:pre;overflow-x:auto;line-height:normal;font-family:Menlo,'DejaVu Sans Mono',consolas,'Courier New',monospace\"><span style=\"font-weight: bold\">Model: \"sequential\"</span>\n",
              "</pre>\n"
            ]
          },
          "metadata": {}
        },
        {
          "output_type": "display_data",
          "data": {
            "text/plain": [
              "┏━━━━━━━━━━━━━━━━━━━━━━━━━━━━━━━━━┳━━━━━━━━━━━━━━━━━━━━━━━━┳━━━━━━━━━━━━━━━┓\n",
              "┃\u001b[1m \u001b[0m\u001b[1mLayer (type)                   \u001b[0m\u001b[1m \u001b[0m┃\u001b[1m \u001b[0m\u001b[1mOutput Shape          \u001b[0m\u001b[1m \u001b[0m┃\u001b[1m \u001b[0m\u001b[1m      Param #\u001b[0m\u001b[1m \u001b[0m┃\n",
              "┡━━━━━━━━━━━━━━━━━━━━━━━━━━━━━━━━━╇━━━━━━━━━━━━━━━━━━━━━━━━╇━━━━━━━━━━━━━━━┩\n",
              "│ dense (\u001b[38;5;33mDense\u001b[0m)                   │ (\u001b[38;5;45mNone\u001b[0m, \u001b[38;5;34m128\u001b[0m)            │       \u001b[38;5;34m100,480\u001b[0m │\n",
              "├─────────────────────────────────┼────────────────────────┼───────────────┤\n",
              "│ dense_1 (\u001b[38;5;33mDense\u001b[0m)                 │ (\u001b[38;5;45mNone\u001b[0m, \u001b[38;5;34m10\u001b[0m)             │         \u001b[38;5;34m1,290\u001b[0m │\n",
              "└─────────────────────────────────┴────────────────────────┴───────────────┘\n"
            ],
            "text/html": [
              "<pre style=\"white-space:pre;overflow-x:auto;line-height:normal;font-family:Menlo,'DejaVu Sans Mono',consolas,'Courier New',monospace\">┏━━━━━━━━━━━━━━━━━━━━━━━━━━━━━━━━━┳━━━━━━━━━━━━━━━━━━━━━━━━┳━━━━━━━━━━━━━━━┓\n",
              "┃<span style=\"font-weight: bold\"> Layer (type)                    </span>┃<span style=\"font-weight: bold\"> Output Shape           </span>┃<span style=\"font-weight: bold\">       Param # </span>┃\n",
              "┡━━━━━━━━━━━━━━━━━━━━━━━━━━━━━━━━━╇━━━━━━━━━━━━━━━━━━━━━━━━╇━━━━━━━━━━━━━━━┩\n",
              "│ dense (<span style=\"color: #0087ff; text-decoration-color: #0087ff\">Dense</span>)                   │ (<span style=\"color: #00d7ff; text-decoration-color: #00d7ff\">None</span>, <span style=\"color: #00af00; text-decoration-color: #00af00\">128</span>)            │       <span style=\"color: #00af00; text-decoration-color: #00af00\">100,480</span> │\n",
              "├─────────────────────────────────┼────────────────────────┼───────────────┤\n",
              "│ dense_1 (<span style=\"color: #0087ff; text-decoration-color: #0087ff\">Dense</span>)                 │ (<span style=\"color: #00d7ff; text-decoration-color: #00d7ff\">None</span>, <span style=\"color: #00af00; text-decoration-color: #00af00\">10</span>)             │         <span style=\"color: #00af00; text-decoration-color: #00af00\">1,290</span> │\n",
              "└─────────────────────────────────┴────────────────────────┴───────────────┘\n",
              "</pre>\n"
            ]
          },
          "metadata": {}
        },
        {
          "output_type": "display_data",
          "data": {
            "text/plain": [
              "\u001b[1m Total params: \u001b[0m\u001b[38;5;34m101,770\u001b[0m (397.54 KB)\n"
            ],
            "text/html": [
              "<pre style=\"white-space:pre;overflow-x:auto;line-height:normal;font-family:Menlo,'DejaVu Sans Mono',consolas,'Courier New',monospace\"><span style=\"font-weight: bold\"> Total params: </span><span style=\"color: #00af00; text-decoration-color: #00af00\">101,770</span> (397.54 KB)\n",
              "</pre>\n"
            ]
          },
          "metadata": {}
        },
        {
          "output_type": "display_data",
          "data": {
            "text/plain": [
              "\u001b[1m Trainable params: \u001b[0m\u001b[38;5;34m101,770\u001b[0m (397.54 KB)\n"
            ],
            "text/html": [
              "<pre style=\"white-space:pre;overflow-x:auto;line-height:normal;font-family:Menlo,'DejaVu Sans Mono',consolas,'Courier New',monospace\"><span style=\"font-weight: bold\"> Trainable params: </span><span style=\"color: #00af00; text-decoration-color: #00af00\">101,770</span> (397.54 KB)\n",
              "</pre>\n"
            ]
          },
          "metadata": {}
        },
        {
          "output_type": "display_data",
          "data": {
            "text/plain": [
              "\u001b[1m Non-trainable params: \u001b[0m\u001b[38;5;34m0\u001b[0m (0.00 B)\n"
            ],
            "text/html": [
              "<pre style=\"white-space:pre;overflow-x:auto;line-height:normal;font-family:Menlo,'DejaVu Sans Mono',consolas,'Courier New',monospace\"><span style=\"font-weight: bold\"> Non-trainable params: </span><span style=\"color: #00af00; text-decoration-color: #00af00\">0</span> (0.00 B)\n",
              "</pre>\n"
            ]
          },
          "metadata": {}
        }
      ]
    },
    {
      "cell_type": "markdown",
      "id": "32fa8560",
      "metadata": {
        "id": "32fa8560"
      },
      "source": [
        "\n",
        "## Paso 5: Entrenar el modelo (1 punto)\n",
        "\n",
        "✏️ **Slot para completar:** Entrena el modelo con `fit` durante 5 épocas y batch size 32.\n"
      ]
    },
    {
      "cell_type": "code",
      "execution_count": null,
      "id": "df8023c2",
      "metadata": {
        "id": "df8023c2"
      },
      "outputs": [],
      "source": [
        "\n",
        "# COMPLETA AQUÍ: Entrenamiento del modelo\n"
      ]
    },
    {
      "cell_type": "code",
      "source": [
        "history = model.fit(x_train, y_train, epochs=5, batch_size=32, validation_split=0.2, verbose=2)"
      ],
      "metadata": {
        "colab": {
          "base_uri": "https://localhost:8080/"
        },
        "id": "vwIO8L1uQZ1i",
        "outputId": "b037cbfe-20bd-4783-fbcf-43ddfc1d3d4f"
      },
      "id": "vwIO8L1uQZ1i",
      "execution_count": null,
      "outputs": [
        {
          "output_type": "stream",
          "name": "stdout",
          "text": [
            "Epoch 1/5\n",
            "1500/1500 - 7s - 5ms/step - accuracy: 0.1135 - loss: 2.3013 - val_accuracy: 0.1060 - val_loss: 2.3021\n",
            "Epoch 2/5\n",
            "1500/1500 - 9s - 6ms/step - accuracy: 0.1140 - loss: 2.3009 - val_accuracy: 0.1060 - val_loss: 2.3015\n",
            "Epoch 3/5\n",
            "1500/1500 - 7s - 5ms/step - accuracy: 0.1140 - loss: 2.3004 - val_accuracy: 0.1060 - val_loss: 2.3006\n",
            "Epoch 4/5\n",
            "1500/1500 - 10s - 6ms/step - accuracy: 0.1140 - loss: 2.2992 - val_accuracy: 0.1060 - val_loss: 2.2992\n",
            "Epoch 5/5\n",
            "1500/1500 - 9s - 6ms/step - accuracy: 0.1140 - loss: 2.2964 - val_accuracy: 0.1060 - val_loss: 2.2952\n"
          ]
        }
      ]
    },
    {
      "cell_type": "markdown",
      "id": "abd4ea81",
      "metadata": {
        "id": "abd4ea81"
      },
      "source": [
        "\n",
        "## Paso 6: Evaluar el modelo (1 punto)\n",
        "\n",
        "✏️ **Slot para completar:** Evalúa el modelo con `evaluate()` en el conjunto de prueba.\n"
      ]
    },
    {
      "cell_type": "code",
      "execution_count": null,
      "id": "fed31d1c",
      "metadata": {
        "id": "fed31d1c"
      },
      "outputs": [],
      "source": [
        "\n",
        "# COMPLETA AQUÍ: Evaluación del modelo\n"
      ]
    },
    {
      "cell_type": "code",
      "source": [
        "\n",
        "test_loss, test_accuracy = model.evaluate(x_test, y_test, verbose=0)\n",
        "\n",
        "\n",
        "print(f\"Test Loss: {test_loss:.4f}\")\n",
        "print(f\"Test Accuracy: {test_accuracy:.4f}\")"
      ],
      "metadata": {
        "colab": {
          "base_uri": "https://localhost:8080/"
        },
        "id": "EDnd1YR3QnRT",
        "outputId": "552862b6-6ea3-49af-f222-985d73c0a208"
      },
      "id": "EDnd1YR3QnRT",
      "execution_count": null,
      "outputs": [
        {
          "output_type": "stream",
          "name": "stdout",
          "text": [
            "Test Loss: 2.2937\n",
            "Test Accuracy: 0.1135\n"
          ]
        }
      ]
    },
    {
      "cell_type": "markdown",
      "id": "7b5a1fd0",
      "metadata": {
        "id": "7b5a1fd0"
      },
      "source": [
        "## Preguntas de Reflexión (3 puntos en total)"
      ]
    },
    {
      "cell_type": "markdown",
      "id": "7455c9fb",
      "metadata": {
        "id": "7455c9fb"
      },
      "source": [
        "### 1. ¿Qué ventaja observas al usar codificación one-hot para las etiquetas? (0.5 punto)"
      ]
    },
    {
      "cell_type": "code",
      "execution_count": null,
      "id": "d7940958",
      "metadata": {
        "id": "d7940958"
      },
      "outputs": [],
      "source": [
        "# Tu respuesta aquí\n",
        "\n",
        "# La codificacion one-hot permite que la red aprenda cada clase como una categoria independiente\n",
        "# Es esencial para funciones de perdida, como puede ser 'categorical_crossentropy'\n"
      ]
    },
    {
      "cell_type": "markdown",
      "id": "dbd9f5f9",
      "metadata": {
        "id": "dbd9f5f9"
      },
      "source": [
        "### 2. ¿Qué ocurre si aumentas o disminuyes el número de neuronas ocultas? (0.5 punto)"
      ]
    },
    {
      "cell_type": "code",
      "execution_count": null,
      "id": "998b05b8",
      "metadata": {
        "id": "998b05b8"
      },
      "outputs": [],
      "source": [
        "# Tu respuesta aquí\n",
        "\n",
        "# Aumentar la cantidad de neuronas puede mejorar el aprendizaje, pero tambien aumentan el riesgo\n",
        "# de sobreajuste\n",
        "# Menos neuronas pueden hacer que el modelo no aprenda lo suficiente"
      ]
    },
    {
      "cell_type": "markdown",
      "id": "2a1bf432",
      "metadata": {
        "id": "2a1bf432"
      },
      "source": [
        "### 3. ¿Qué alternativa propondrías al optimizador `adam` y por qué? (0.5 punto)"
      ]
    },
    {
      "cell_type": "code",
      "execution_count": null,
      "id": "d57b11e7",
      "metadata": {
        "id": "d57b11e7"
      },
      "outputs": [],
      "source": [
        "# Tu respuesta aquí\n",
        "\n",
        "# Una alternativa puede ser 'sgd'\n",
        "# Es mas simple que 'adam' y mas util para entender el proceso de entrenamiento, aunque puede resultar\n",
        "# mas lento"
      ]
    },
    {
      "cell_type": "markdown",
      "id": "c56b32ea",
      "metadata": {
        "id": "c56b32ea"
      },
      "source": [
        "### 4. ¿Cómo cambia el desempeño si entrenas más épocas? ¿Cuál es el riesgo? (0.5 punto)"
      ]
    },
    {
      "cell_type": "code",
      "execution_count": null,
      "id": "424e5803",
      "metadata": {
        "id": "424e5803"
      },
      "outputs": [],
      "source": [
        "# Tu respuesta aquí\n",
        "\n",
        "# Puede mejorar la precision, pero si se entrena demasiado, el modelo puede sufrir un sobreajuste"
      ]
    },
    {
      "cell_type": "markdown",
      "id": "d79eea4a",
      "metadata": {
        "id": "d79eea4a"
      },
      "source": [
        "### 5. ¿Por qué es importante dividir en conjuntos de entrenamiento y prueba? (1 punto)"
      ]
    },
    {
      "cell_type": "code",
      "execution_count": null,
      "id": "7e37c659",
      "metadata": {
        "id": "7e37c659"
      },
      "outputs": [],
      "source": [
        "# Tu respuesta aquí\n",
        "\n",
        "# Es importante para verificar que el modelo no solo memoriza los datos de entrenamiento\n",
        "# El conjunto de prueba evalua el rendimiento en datos nuevos"
      ]
    }
  ],
  "metadata": {
    "colab": {
      "provenance": [],
      "include_colab_link": true
    },
    "language_info": {
      "name": "python"
    },
    "kernelspec": {
      "name": "python3",
      "display_name": "Python 3"
    }
  },
  "nbformat": 4,
  "nbformat_minor": 5
}